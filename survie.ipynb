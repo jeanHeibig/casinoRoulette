{
 "cells": [
  {
   "cell_type": "code",
   "execution_count": 1,
   "metadata": {},
   "outputs": [
    {
     "data": {
      "image/png": "[encoded data removed]",
      "text/plain": [
       "<Figure size 288x288 with 1 Axes>"
      ]
     },
     "metadata": {
      "needs_background": "light"
     },
     "output_type": "display_data"
    }
   ],
   "source": [
    "import matplotlib.pyplot as plt\n",
    "import numpy as np\n",
    "\n",
    "np.random.seed(0)\n",
    "\n",
    "\n",
    "z = 1  # Nombre de zéros\n",
    "\n",
    "n = 36  # Nombre de numéros (zéros exclus)\n",
    "M = 100  # Nombre de trajectoires    \n",
    "N = 10000  # Nombre de tours de roulette\n",
    "f = np.zeros(n - 1)\n",
    "f[0], f[1], f[4], f[7], f[10], f[16], f[34] = 6, 9, 22, 24, 26, 60, 37\n",
    "f /= np.sum(f)\n",
    "\n",
    "p = lambda d: n / (n + z) / (d + 1)\n",
    "p_g = 1 - f @ p(np.arange(1, n))\n",
    "\n",
    "c = np.vectorize(lambda l: f[l - 1:] @ p(np.arange(l, n)))\n",
    "P = np.vectorize(lambda r: p_g * r + (f * p(np.arange(1, n))) @ (1 / r) ** np.arange(1, n))\n",
    "Q = np.append(c(np.arange(n - 1, 0, -1)), -p_g)\n",
    "x = np.roots(Q)\n",
    "r = 1 / x\n",
    "\n",
    "V = np.vander(x)\n",
    "mu = -np.ones(x.shape) @ np.linalg.inv(V)\n",
    "mu_real = -np.real(np.exp(np.sum(np.log((1 - x[:-1]) / (x[-1] - x[:-1])))))\n",
    "\n",
    "q = np.vectorize(lambda k: 1 + np.real(mu @ r ** k))\n",
    "\n",
    "k_half = 1 + int(np.log(-1 / 2 / mu_real) / np.log(np.real(r[-1])))\n",
    "k_99 = 1 + int(np.log(-.01 / mu_real) / np.log(np.real(r[-1])))\n",
    "k = np.arange(1, k_99)\n",
    "q_k = q(k)\n",
    "\n",
    "plt.figure(figsize=(4, 4))\n",
    "plt.scatter(np.real(r), np.imag(r))\n",
    "plt.xlim([-1, 1])\n",
    "plt.ylim([-1, 1])\n",
    "plt.show()"
   ]
  }
 ],
 "metadata": {
  "interpreter": {
   "hash": "f31275358cf534c5bfced08dac3381a2a54ac80ee284b073ad34f287f0626321"
  },
  "kernelspec": {
   "display_name": "Python 3.8.5 64-bit ('base': conda)",
   "language": "python",
   "name": "python3"
  },
  "language_info": {
   "codemirror_mode": {
    "name": "ipython",
    "version": 3
   },
   "file_extension": ".py",
   "mimetype": "text/x-python",
   "name": "python",
   "nbconvert_exporter": "python",
   "pygments_lexer": "ipython3",
   "version": "3.8.5"
  },
  "orig_nbformat": 4
 },
 "nbformat": 4,
 "nbformat_minor": 2
}
