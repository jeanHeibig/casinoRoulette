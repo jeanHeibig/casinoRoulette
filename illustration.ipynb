{
 "cells": [
  {
   "cell_type": "code",
   "execution_count": 2,
   "metadata": {},
   "outputs": [],
   "source": [
    "import matplotlib.pyplot as plt\n",
    "import numpy as np\n",
    "\n",
    "from draw_roulette import draw_roulette"
   ]
  },
  {
   "cell_type": "code",
   "execution_count": 1,
   "metadata": {},
   "outputs": [],
   "source": [
    "# Cover\n",
    "d = draw_roulette([11], (24, 3), margin=0.05, phase=30, h_phase=10, random_seed=0)\n",
    "d.setPixelScale(1200)\n",
    "d.savePng('cover.png')\n",
    "# Américaine\n",
    "d = draw_roulette([0], americaine=True, phase=0, h_phase=20)\n",
    "d.setPixelScale(600)\n",
    "d.savePng('americaine.png')\n",
    "# Européenne\n",
    "d = draw_roulette([0], phase=0, h_phase=45)\n",
    "d.setPixelScale(600)\n",
    "d.savePng('europeenne.png')\n"
   ]
  },
  {
   "cell_type": "code",
   "execution_count": 78,
   "metadata": {},
   "outputs": [],
   "source": [
    "# Configuration Roulette américaine\n",
    "z = 2  # Nombre de zéros\n",
    "n = 36  # Nombre de numéros (zéros exclus)\n",
    "M = 1  # Nombre de trajectoires    \n",
    "N = 100  # Nombre de tours de roulette\n",
    "n_d = {1: 38, 2: 61, 3: 26, 4: 24, 6: 22, 12: 6, 18: 6}\n",
    "\n",
    "i = np.array(list(n_d.keys()))\n",
    "f = np.zeros(n - 1)\n",
    "f[36 // i - 2] = np.array(list(n_d.values()))\n",
    "f /= np.sum(f)\n",
    "p = lambda d: n / (n + z) / (d + 1)\n",
    "fp = f * p(np.arange(1, n))\n",
    "p_g = 1 - np.sum(fp)\n",
    "\n",
    "\n",
    "def show_phi(u0, fName='mc'):\n",
    "    du = np.random.choice(-np.arange(-1, n), size=(M, N), replace=True, p=np.append((p_g, 0), fp))\n",
    "    u = u0 + np.hstack((np.zeros((M, 1)), np.cumsum(du, axis=1)))\n",
    "    u_alive = ~np.cumsum(u<=0, axis=1).astype(bool)\n",
    "    u_cutted = u*(u_alive)\n",
    "    plt.figure(figsize=(6, 6/1.618))\n",
    "    plt.title(\"Simulation Monte-Carlo de la survie d'un casino\", fontsize=16)\n",
    "    plt.xlabel(\"nombre de tours de roulette\", fontsize=15)\n",
    "    plt.ylabel(\"fortune (en jetons)\", fontsize=15)\n",
    "    # plt.plot(u.T, c='gray')\n",
    "    plt.plot(u_cutted.T)\n",
    "    plt.tight_layout()\n",
    "    plt.savefig(f'monte-carlo/{fName}.png', transparent=True)\n",
    "    # plt.show()\n",
    "    plt.close()\n",
    "    return du\n",
    "\n",
    "s = 1\n",
    "np.random.seed(s)\n",
    "du1 = show_phi(10, str(s))\n",
    "s = 5\n",
    "np.random.seed(s)\n",
    "du5 = show_phi(10, str(s))"
   ]
  }
 ],
 "metadata": {
  "interpreter": {
   "hash": "f31275358cf534c5bfced08dac3381a2a54ac80ee284b073ad34f287f0626321"
  },
  "kernelspec": {
   "display_name": "Python 3.8.5 64-bit ('base': conda)",
   "language": "python",
   "name": "python3"
  },
  "language_info": {
   "codemirror_mode": {
    "name": "ipython",
    "version": 3
   },
   "file_extension": ".py",
   "mimetype": "text/x-python",
   "name": "python",
   "nbconvert_exporter": "python",
   "pygments_lexer": "ipython3",
   "version": "3.8.5"
  },
  "orig_nbformat": 4
 },
 "nbformat": 4,
 "nbformat_minor": 2
}
