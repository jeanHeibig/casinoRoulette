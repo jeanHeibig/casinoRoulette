{
 "cells": [
  {
   "cell_type": "code",
   "execution_count": 1,
   "metadata": {},
   "outputs": [],
   "source": [
    "import numpy as np\n",
    "from draw_roulette import draw_roulette\n",
    "\n",
    "\n",
    "# Cover\n",
    "d = draw_roulette([11], (24, 3), margin=0.05, phase=30, h_phase=10, random_seed=0)\n",
    "d.setPixelScale(1200)\n",
    "d.savePng('cover.png')\n",
    "# Américaine\n",
    "d = draw_roulette([0], americaine=True, phase=0, h_phase=20)\n",
    "d.setPixelScale(600)\n",
    "d.savePng('americaine.png')\n",
    "# Européenne\n",
    "d = draw_roulette([0], phase=0, h_phase=45)\n",
    "d.setPixelScale(600)\n",
    "d.savePng('europeenne.png')\n"
   ]
  }
 ],
 "metadata": {
  "interpreter": {
   "hash": "f31275358cf534c5bfced08dac3381a2a54ac80ee284b073ad34f287f0626321"
  },
  "kernelspec": {
   "display_name": "Python 3.8.5 64-bit ('base': conda)",
   "language": "python",
   "name": "python3"
  },
  "language_info": {
   "codemirror_mode": {
    "name": "ipython",
    "version": 3
   },
   "file_extension": ".py",
   "mimetype": "text/x-python",
   "name": "python",
   "nbconvert_exporter": "python",
   "pygments_lexer": "ipython3",
   "version": "3.8.5"
  },
  "orig_nbformat": 4
 },
 "nbformat": 4,
 "nbformat_minor": 2
}
