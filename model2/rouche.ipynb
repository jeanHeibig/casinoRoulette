{
 "cells": [
  {
   "cell_type": "markdown",
   "metadata": {},
   "source": [
    "$$P(X) = p_{g} X^{n} - X^{n - 1} + \\sum_{d = 0}^{n - 2} f_{n - 1 - d} p_{n - 1 - d} X^{d}$$"
   ]
  },
  {
   "cell_type": "markdown",
   "metadata": {},
   "source": [
    "Soit $d$ tel que $f_{n - 1 - d} > 0$. Soit $\\varepsilon > 0$. Alors $P(\\varepsilon) \\geqslant f_{n - 1 - d} p_{n - 1 - d} \\varepsilon^{d} - \\varepsilon^{n - 1} \\sim f_{n - 1 - d} p_{n - 1 - d} \\varepsilon^{d} > 0$. Et $P(1) = 0$ avec $P$ non nul lorsque $1 < |X|$. Or $\\lim_{X \\to +\\infty} P(X) = +\\infty$. Donc $P$ s'annule en $r_{0} \\in ]0, 1[$."
   ]
  },
  {
   "cell_type": "markdown",
   "metadata": {},
   "source": [
    "$$P(R) = p_{g} (R - 1) (R - r_{0}) T(R)$$\n",
    "\n",
    "où $T$ unitaire avec $\\deg T = n - 2$ à coefficients réels positifs (À redémontrer ici)."
   ]
  },
  {
   "cell_type": "markdown",
   "metadata": {},
   "source": [
    "Une CS pour montrer que $P$ a exactement $n - 2$ zéros de module inférieur à $r_{0}$ serait de montrer pour un $r_{1} < r_{0}$ que\n",
    "\n",
    "$$T(r_{1}) < 2 r_{1}^{n - 2} ?$$"
   ]
  },
  {
   "cell_type": "markdown",
   "metadata": {},
   "source": [
    "$T(r_{1}) < 2 r_{1}^{n - 2} \\iff P(r_{1}) < 2 p_{g} (r_{1} - 1) (r_{1} - r_{0}) r_{1}^{n - 2}$"
   ]
  },
  {
   "cell_type": "markdown",
   "metadata": {},
   "source": [
    "Notons $\\varepsilon = r_{0} - r_{1}$. En utilisant $P(r_{1}) < p_{g} r_{0}^{n} - r_{0}^{n - 1} + (n - 1) \\varepsilon r_{0}^{n - 2} + \\sum_{d = 0}^{n - 2} f_{n - 1 - d} p_{n - 1 - d} r_{0}^{d}$, il suffit de mq $(n - 1) \\varepsilon r_{0}^{n - 2} < 2 p_{g} (1 - r_{1}) r_{1}^{n - 2} \\varepsilon$. FAUX !"
   ]
  },
  {
   "cell_type": "markdown",
   "metadata": {},
   "source": [
    "Rouché semble ne rien donner."
   ]
  },
  {
   "cell_type": "markdown",
   "metadata": {},
   "source": [
    "Démonstration $n = 3$ :\n",
    "\n",
    "$P(X) = p_{g} (X - 1) (X^{2} - s X + p) = p_{g} [X^{3} - (s + 1) X^{2} + (s + p) X - p] \\implies p_{g} (s + 1) = 1 \\implies r_{0} > |r_{1}|$."
   ]
  },
  {
   "cell_type": "code",
   "execution_count": 532,
   "metadata": {},
   "outputs": [
    {
     "data": {
      "image/png": "[encoded data removed]",
      "text/plain": [
       "<Figure size 360x360 with 1 Axes>"
      ]
     },
     "metadata": {
      "needs_background": "light"
     },
     "output_type": "display_data"
    }
   ],
   "source": [
    "import matplotlib.pyplot as plt\n",
    "import numpy as np\n",
    "\n",
    "z = 1  # Nombre de zéros\n",
    "n = 4  # Nombre de numéros (zéros exclus)\n",
    "p = lambda d: n / (n + z) / (d + 1)\n",
    "f = np.random.random(n - 1)\n",
    "f /= np.sum(f)\n",
    "p_g = 1 - f @ p(np.arange(1, n))\n",
    "P = np.append((p_g, -1), f * p(np.arange(1, n)))\n",
    "r = np.roots(P)\n",
    "\n",
    "plt.figure(figsize=(5, 5))\n",
    "plt.xlim([-1.3, 1.3])\n",
    "plt.ylim([-1.3, 1.3])\n",
    "circle0 = plt.Circle((0, 0), 1, edgecolor='k', fill=False)\n",
    "circle1 = plt.Circle((0, 0), np.abs(r[1]), edgecolor='r', fill=False)\n",
    "plt.gcf().gca().add_patch(circle0)\n",
    "plt.gcf().gca().add_patch(circle1)\n",
    "plt.scatter(np.real(r), np.imag(r))\n",
    "plt.show()"
   ]
  }
 ],
 "metadata": {
  "interpreter": {
   "hash": "f31275358cf534c5bfced08dac3381a2a54ac80ee284b073ad34f287f0626321"
  },
  "kernelspec": {
   "display_name": "Python 3.8.5 64-bit ('base': conda)",
   "language": "python",
   "name": "python3"
  },
  "language_info": {
   "codemirror_mode": {
    "name": "ipython",
    "version": 3
   },
   "file_extension": ".py",
   "mimetype": "text/x-python",
   "name": "python",
   "nbconvert_exporter": "python",
   "pygments_lexer": "ipython3",
   "version": "3.8.5"
  },
  "orig_nbformat": 4
 },
 "nbformat": 4,
 "nbformat_minor": 2
}
