{
 "cells": [
  {
   "cell_type": "markdown",
   "metadata": {},
   "source": [
    "$$P(R) = p_{g} R^{n} - R^{n - 1} + \\sum_{d = 0}^{n - 2} f_{n - 1 - d} p_{n - 1 - d} R^{d}$$"
   ]
  },
  {
   "cell_type": "markdown",
   "metadata": {},
   "source": [
    "Soit $d$ tel que $f_{n - 1 - d} > 0$. Soit $\\varepsilon > 0$. Alors $P(\\varepsilon) \\geqslant f_{n - 1 - d} p_{n - 1 - d} \\varepsilon^{d} - \\varepsilon^{n - 1} \\sim f_{n - 1 - d} p_{n - 1 - d} \\varepsilon^{d} > 0$. Et $P(1) = 0$ avec $P$ non nul lorsque $1 < |X|$. Or $\\lim_{X \\to +\\infty} P(X) = +\\infty$. Donc $P$ s'annule en $r_{0} \\in ]0, 1[$."
   ]
  },
  {
   "cell_type": "markdown",
   "metadata": {},
   "source": [
    "De plus, $\\forall r \\in ]r_{0}, 1[, P(r) < 0$. C'est-à-dire $g(r) - f(r) = P(r) < 0$ où $g(R) = p_{g} R^{n} + \\sum_{d = 0}^{n - 2} f_{n - 1 - d} p_{n - 1 - d} R^{d}$ et $f(R) = R^{n - 1}$. Donc $g(r) < f(r)$.\n",
    "\n",
    "Or, le théorème de Rouché prouve que $g - f$ a le même nombre de racines (ici $n - 1$) que $f$ à l'intérieur du contour $\\gamma_{r} = \\lbrace z \\in \\mathbb{C}, |z| = r \\rbrace$ si $\\forall z \\in \\gamma_{r}, |g(z)| < |f(z)|$."
   ]
  },
  {
   "cell_type": "markdown",
   "metadata": {},
   "source": [
    "Soit $r \\in ]r_{0}, 1[$, alors pour tout $z \\in \\gamma_{r}$,\n",
    "\n",
    "$$\\begin{align*}|g(z)|\n",
    "  &=\\left| p_{g} z^{n} + \\sum_{d = 0}^{n - 2} f_{n - 1 - d} p_{n - 1 - d} z^{d} \\right|\n",
    "\\\\&\\leqslant p_{g} \\left| z^{n} \\right| + \\sum_{d = 0}^{n - 2} f_{n - 1 - d} p_{n - 1 - d} \\left| z^{d} \\right|\n",
    "\\\\&= p_{g} r^{n} + \\sum_{d = 0}^{n - 2} f_{n - 1 - d} p_{n - 1 - d} z^{d}\n",
    "\\\\&= g(r)\n",
    "\\\\&< f(r)\n",
    "\\\\&= |f(z)|\n",
    "\\end{align*}$$"
   ]
  },
  {
   "cell_type": "markdown",
   "metadata": {},
   "source": [
    "Donc $\\forall r \\in ]r_{0}, 1[, \\forall z \\in \\gamma_{r}, |g(z)| < |f(z)|$. Ainsi $Q := P | (X - 1)$ a exactement $n - 1$ racines de module inférieur à $r$. En faisant tendre $r$ vers $r_{0}$, il vient que les racines de $Q$ sont donc de module inférieur à $r_{0}$. Nous pouvons même montrer que $Q$ admet une unique racine de module $r_{0}$. De fait, si $r$ est une racine de module $r_{0}$, alors $|r^{n - 1}| = r_{0}^{n - 1} = p_{g} r_{0}^{n} + \\sum_{d = 0}^{n - 2} f_{n - 1 - d} p_{n - 1 - d} r_{0}^{d}= p_{g} \\left| r^{n} \\right| + \\sum_{d = 0}^{n - 2} f_{n - 1 - d} p_{n - 1 - d} \\left| r^{d} \\right|$, correspond au cas d'égalité de l'inégalité triangulaire, atteint uniquement lorsque tous les $(r^{d})_{0 \\leqslant d \\leqslant n - 2}$ de fréquence non nulle sont colinéaires avec $r^{n}$. Donc réels, donc $r^{n - 1}$ réel, donc $r$ réel. Donc $r = r_{0}$."
   ]
  },
  {
   "cell_type": "code",
   "execution_count": 13,
   "metadata": {},
   "outputs": [
    {
     "data": {
      "image/png": "[encoded data removed]",
      "text/plain": [
       "<Figure size 360x360 with 1 Axes>"
      ]
     },
     "metadata": {
      "needs_background": "light"
     },
     "output_type": "display_data"
    }
   ],
   "source": [
    "import matplotlib.pyplot as plt\n",
    "import numpy as np\n",
    "\n",
    "z = 1  # Nombre de zéros\n",
    "n = 36  # Nombre de numéros (zéros exclus)\n",
    "p = lambda d: n / (n + z) / (d + 1)\n",
    "f = np.zeros(n - 1)\n",
    "f[18] = 1\n",
    "f /= np.sum(f)\n",
    "p_g = 1 - f @ p(np.arange(1, n))\n",
    "P = np.append((p_g, -1), f * p(np.arange(1, n)))\n",
    "r = np.roots(P)\n",
    "\n",
    "plt.figure(figsize=(5, 5))\n",
    "plt.xlim([-1.3, 1.3])\n",
    "plt.ylim([-1.3, 1.3])\n",
    "circle0 = plt.Circle((0, 0), 1, edgecolor='k', fill=False)\n",
    "circle1 = plt.Circle((0, 0), np.abs(r[1]), edgecolor='r', fill=False)\n",
    "plt.gcf().gca().add_patch(circle0)\n",
    "plt.gcf().gca().add_patch(circle1)\n",
    "plt.scatter(np.real(r), np.imag(r))\n",
    "plt.show()"
   ]
  },
  {
   "cell_type": "code",
   "execution_count": 14,
   "metadata": {},
   "outputs": [
    {
     "data": {
      "text/plain": [
       "array([ 1.        +0.j        ,  0.99713442+0.j        ,\n",
       "        0.8323558 +0.33529375j,  0.8323558 -0.33529375j,\n",
       "        0.6598666 +0.56993023j,  0.6598666 -0.56993023j,\n",
       "        0.43514908+0.73820464j,  0.43514908-0.73820464j,\n",
       "        0.17498731+0.82848155j,  0.17498731-0.82848155j,\n",
       "       -0.09694825+0.83391997j, -0.09694825-0.83391997j,\n",
       "       -0.35486408+0.7551338j , -0.35486408-0.7551338j ,\n",
       "       -0.81659202+0.13312374j, -0.81659202-0.13312374j,\n",
       "       -0.73300388+0.38611519j, -0.73300388-0.38611519j,\n",
       "       -0.5739496 +0.60062163j, -0.5739496 -0.60062163j,\n",
       "        0.        +0.j        ,  0.        +0.j        ,\n",
       "        0.        +0.j        ,  0.        +0.j        ,\n",
       "        0.        +0.j        ,  0.        +0.j        ,\n",
       "        0.        +0.j        ,  0.        +0.j        ,\n",
       "        0.        +0.j        ,  0.        +0.j        ,\n",
       "        0.        +0.j        ,  0.        +0.j        ,\n",
       "        0.        +0.j        ,  0.        +0.j        ,\n",
       "        0.        +0.j        ,  0.        +0.j        ])"
      ]
     },
     "execution_count": 14,
     "metadata": {},
     "output_type": "execute_result"
    }
   ],
   "source": [
    "r"
   ]
  }
 ],
 "metadata": {
  "interpreter": {
   "hash": "f31275358cf534c5bfced08dac3381a2a54ac80ee284b073ad34f287f0626321"
  },
  "kernelspec": {
   "display_name": "Python 3.8.5 64-bit ('base': conda)",
   "language": "python",
   "name": "python3"
  },
  "language_info": {
   "codemirror_mode": {
    "name": "ipython",
    "version": 3
   },
   "file_extension": ".py",
   "mimetype": "text/x-python",
   "name": "python",
   "nbconvert_exporter": "python",
   "pygments_lexer": "ipython3",
   "version": "3.8.5"
  },
  "orig_nbformat": 4
 },
 "nbformat": 4,
 "nbformat_minor": 2
}
