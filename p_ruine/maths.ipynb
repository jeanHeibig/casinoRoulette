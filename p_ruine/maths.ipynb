{
 "cells": [
  {
   "cell_type": "code",
   "execution_count": 1,
   "metadata": {},
   "outputs": [],
   "source": [
    "import matplotlib.pyplot as plt\n",
    "import numpy as np"
   ]
  },
  {
   "cell_type": "code",
   "execution_count": 2,
   "metadata": {},
   "outputs": [],
   "source": [
    "n = 36\n",
    "P = np.append(n, -np.ones(n - 1))\n",
    "r = np.roots(P)\n",
    "x = 1 / r  # x = np.roots(np.append(np.ones(n - 1), -n))  # Attention à l'ordre des solutions\n",
    "W = np.vander(x)\n",
    "mu = -np.ones(n - 1) @ np.linalg.inv(W)"
   ]
  },
  {
   "cell_type": "markdown",
   "metadata": {},
   "source": [
    "$r_0$ est la racine de plus grand module."
   ]
  },
  {
   "cell_type": "markdown",
   "metadata": {},
   "source": [
    "$\\mu_0$ est le coefficient de plus grand module."
   ]
  },
  {
   "cell_type": "code",
   "execution_count": 3,
   "metadata": {},
   "outputs": [
    {
     "data": {
      "image/png": "[encoded data removed]",
      "text/plain": [
       "<Figure size 432x288 with 1 Axes>"
      ]
     },
     "metadata": {
      "needs_background": "light"
     },
     "output_type": "display_data"
    }
   ],
   "source": [
    "k = np.arange(3 * n ** 2)\n",
    "q = np.vectorize(lambda k: 1 + np.real(mu @ r ** k))\n",
    "q_k = q(k)\n",
    "\n",
    "k_low = k[1:n + 1]\n",
    "q_low = q_k[1:n + 1]\n",
    "k_great = k[n + 1:]\n",
    "q_great = q_k[n + 1:]\n",
    "\n",
    "plt.scatter(k_low, q_low)\n",
    "plt.plot(k_low, ((n + 1) / n) ** k_low / (n + 1))\n",
    "plt.scatter(k_great, q_great)\n",
    "plt.plot(k_great, 1 + np.real(mu[0] * r[0] ** k_great))\n",
    "plt.show()"
   ]
  },
  {
   "cell_type": "markdown",
   "metadata": {},
   "source": [
    "$q_{1} = \\frac{1}{n}$"
   ]
  },
  {
   "cell_type": "markdown",
   "metadata": {},
   "source": [
    "$q_{k} = 1 + \\Mu \\cdot R^{k} \\sim 1 + \\mu_{0} r_{0}^{k}$"
   ]
  },
  {
   "cell_type": "markdown",
   "metadata": {},
   "source": [
    "Montrons que $$(-1)^{n - 1} \\sum_{i = 1}^{n - 1} \\mu_{i} \\prod_{j \\neq i} x_{j} = n - 1$$"
   ]
  },
  {
   "cell_type": "markdown",
   "metadata": {},
   "source": [
    "Rappelons que les $(x_j)$ sont les racines (distinctes) du polynôme $Q(X) = -n + \\sum_{k = 1}^{n - 1} X^k$. Le terme constant $-n$ vaut alors $Q(0) = (-1)^{n - 1} \\prod_{j = 1}^{n - 1} x_{j}$ et nous obtenons pour $i \\in [\\![1, n - 1]\\!]$,\n",
    "\n",
    "$$Q(x_{i}) = (-1)^{n - 1} \\prod_{j = 1}^{n - 1} x_{j} + \\sum_{k = 1}^{n - 1} x_{i}^{k}$$\n",
    "\n",
    "Donc\n",
    "\n",
    "$$\\prod_{j \\neq i} x_j = (-1)^{n} \\sum_{k = 1}^{n - 1} x_{i}^{k}$$\n",
    "\n",
    "Finalement\n",
    "\n",
    "$$\\begin{align*}(-1)^{n - 1} \\sum_{i = 1}^{n - 1} \\mu_{i} \\prod_{j \\neq i} x_{j}\n",
    "  &= (-1)^{n - 1} \\sum_{i = 1}^{n - 1} \\mu_{i} (-1)^{n} \\sum_{k = 1}^{n - 1} x_{i}^{k}\n",
    "\\\\&= -\\sum_{k = 1}^{n - 1} \\sum_{i = 1}^{n - 1} \\mu_{i} x_{i}^{k}\n",
    "\\\\&= -\\sum_{k = 1}^{n - 1} -1\n",
    "\\\\&= n - 1\n",
    "\\end{align*}$$"
   ]
  },
  {
   "cell_type": "markdown",
   "metadata": {},
   "source": [
    "En conclusion\n",
    "\n",
    "$$\\begin{align*}q_{1}\n",
    "  &= 1 + \\sum_{i = 1}^{n - 1} \\cfrac{\\mu_{i}}{x_{i}}\n",
    "\\\\&= 1 + \\sum_{i = 1}^{n - 1} \\cfrac{\\mu_{i} \\prod_{j \\neq i} x_{j}}{\\prod_{j = 1}^{n - 1} x_{j}}\n",
    "\\\\&= 1 - \\cfrac{n - 1}{n}\n",
    "\\\\&= \\cfrac{1}{n}\n",
    "\\end{align*}$$"
   ]
  }
 ],
 "metadata": {
  "interpreter": {
   "hash": "f31275358cf534c5bfced08dac3381a2a54ac80ee284b073ad34f287f0626321"
  },
  "kernelspec": {
   "display_name": "Python 3.8.5 64-bit ('base': conda)",
   "language": "python",
   "name": "python3"
  },
  "language_info": {
   "codemirror_mode": {
    "name": "ipython",
    "version": 3
   },
   "file_extension": ".py",
   "mimetype": "text/x-python",
   "name": "python",
   "nbconvert_exporter": "python",
   "pygments_lexer": "ipython3",
   "version": "3.8.5"
  },
  "orig_nbformat": 4
 },
 "nbformat": 4,
 "nbformat_minor": 2
}
