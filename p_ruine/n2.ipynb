{
 "cells": [
  {
   "cell_type": "code",
   "execution_count": 1,
   "metadata": {},
   "outputs": [],
   "source": [
    "import matplotlib.pyplot as plt\n",
    "import numpy as np"
   ]
  },
  {
   "cell_type": "code",
   "execution_count": 2,
   "metadata": {},
   "outputs": [],
   "source": [
    "np.random.seed(0)"
   ]
  },
  {
   "cell_type": "code",
   "execution_count": null,
   "metadata": {},
   "outputs": [],
   "source": [
    "# M = 200  # Nombre de trajectoires\n",
    "# N = 1000 # Durée totale (en s)\n",
    "# T = np.arange(N)  # Indices des temps\n",
    "# c = 0.025  # Débit d'argent rentrant (en €/s)\n",
    "# lambda_T = 0.1  # Paramètre de la loi de Poisson pour les durées entre sinistres\n",
    "# lambda_X = 1  # Paramètre de la loi de Poisson pour le montant des sinistres\n",
    "# n_samples_per_time_unit = 1 + int(lambda_T + 5 * np.sqrt(lambda_T))  # Taille du tableau des sinistres\n",
    "# dN = np.hstack((np.zeros((M, 1)), np.random.poisson(lambda_T, (M, N - 1))))\n",
    "# X = np.random.exponential(1 / lambda_X, (M, N, n_samples_per_time_unit))\n",
    "# dS = np.sum((np.arange(n_samples_per_time_unit) < dN.reshape(M, N, 1)) * X, axis=2)\n",
    "# S = np.cumsum(dS, axis=1)\n",
    "\n",
    "# u = 1 + c * T - S\n",
    "# u_alive = ~np.cumsum(u<0, axis=1).astype(bool)\n",
    "# u_cutted = u*(u_alive)"
   ]
  },
  {
   "cell_type": "code",
   "execution_count": 64,
   "metadata": {},
   "outputs": [],
   "source": [
    "def phi(n):\n",
    "    u0 = 1\n",
    "    M = 100  # Nombre de trajectoires\n",
    "    N = 100 # Durée totale (en s)\n",
    "    T = np.arange(N)  # Indices des temps\n",
    "    c = 1  # Débit d'argent rentrant (en €/tour)\n",
    "    # n_joueurs = 1\n",
    "    lam = 1 / (n + 1)\n",
    "    # dS = n * np.random.poisson(n_joueurs * lam, (M, N))\n",
    "    dS = n * np.random.poisson(lam, (M, N))\n",
    "    S = np.cumsum(dS, axis=1)\n",
    "    # u = u0 + n_joueurs * c * T - S\n",
    "    u = u0 + c * T - S\n",
    "    u_alive = ~np.cumsum(u<0, axis=1).astype(bool)\n",
    "    u_cutted = u*(u_alive)\n",
    "    phi = np.mean(u_alive, axis=0)\n",
    "    # plt.title(\"Évolution des réserves monétaires avec accidents à couvrir\")\n",
    "    # plt.xlabel(\"temps (en s)\")\n",
    "    # plt.ylabel(\"trésorerie (en €)\")\n",
    "    # plt.plot(u.T, c='gray')\n",
    "    # plt.plot(u_cutted.T)\n",
    "    # plt.show()\n",
    "    # plt.title(\"Probabilité de non-ruine\")\n",
    "    # plt.xlabel(\"temps (en s)\")\n",
    "    # plt.ylabel(\"probabilité\")\n",
    "    # plt.plot(phi)\n",
    "    # plt.show()\n",
    "    # plt.title(\"Probabilité de non-ruine\")\n",
    "    # plt.xlabel(\"temps (en s)\")\n",
    "    # plt.ylabel(\"probabilité (log)\")\n",
    "    # plt.plot(np.log(phi))\n",
    "    # plt.show()\n",
    "    return phi[-1]"
   ]
  },
  {
   "cell_type": "code",
   "execution_count": 81,
   "metadata": {},
   "outputs": [
    {
     "data": {
      "image/png": "[encoded data removed]",
      "text/plain": [
       "<Figure size 432x288 with 1 Axes>"
      ]
     },
     "metadata": {
      "needs_background": "light"
     },
     "output_type": "display_data"
    }
   ],
   "source": [
    "vphi = np.vectorize(phi)\n",
    "expt = vphi(2 * np.ones(1000))\n",
    "plt.hist(expt)\n",
    "phi_inf = np.mean(expt)\n",
    "plt.plot([phi_inf, phi_inf], [0, 250])\n",
    "plt.show()"
   ]
  }
 ],
 "metadata": {
  "interpreter": {
   "hash": "f31275358cf534c5bfced08dac3381a2a54ac80ee284b073ad34f287f0626321"
  },
  "kernelspec": {
   "display_name": "Python 3.8.5 64-bit ('base': conda)",
   "language": "python",
   "name": "python3"
  },
  "language_info": {
   "codemirror_mode": {
    "name": "ipython",
    "version": 3
   },
   "file_extension": ".py",
   "mimetype": "text/x-python",
   "name": "python",
   "nbconvert_exporter": "python",
   "pygments_lexer": "ipython3",
   "version": "3.8.5"
  },
  "orig_nbformat": 4
 },
 "nbformat": 4,
 "nbformat_minor": 2
}
